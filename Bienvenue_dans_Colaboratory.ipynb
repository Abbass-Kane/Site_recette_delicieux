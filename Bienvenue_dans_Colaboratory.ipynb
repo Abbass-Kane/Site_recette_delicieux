{
  "cells": [
    {
      "cell_type": "markdown",
      "metadata": {
        "id": "view-in-github",
        "colab_type": "text"
      },
      "source": [
        "<a href=\"https://colab.research.google.com/github/Abbass-Kane/Site_recette_delicieux/blob/main/Bienvenue_dans_Colaboratory.ipynb\" target=\"_parent\"><img src=\"https://colab.research.google.com/assets/colab-badge.svg\" alt=\"Open In Colab\"/></a>"
      ]
    },
    {
      "cell_type": "code",
      "source": [
        "import cv2 as cv2"
      ],
      "metadata": {
        "id": "9yveWUtbdAYN"
      },
      "execution_count": 16,
      "outputs": []
    },
    {
      "cell_type": "code",
      "source": [
        "matrice = cv.imread(\"Lenna.png\") # charge le fichier dans une matrice de pixels couleur "
      ],
      "metadata": {
        "id": "M8q2vMa6eTEq"
      },
      "execution_count": 17,
      "outputs": []
    },
    {
      "cell_type": "code",
      "source": [
        "print(matrice.shape) # affiche les dimension de la matrice "
      ],
      "metadata": {
        "colab": {
          "base_uri": "https://localhost:8080/"
        },
        "id": "fQ9clouieu1s",
        "outputId": "a0bfb19b-036f-447e-91a5-566ab687a1f8"
      },
      "execution_count": 18,
      "outputs": [
        {
          "output_type": "stream",
          "name": "stdout",
          "text": [
            "(512, 512, 3)\n"
          ]
        }
      ]
    },
    {
      "cell_type": "code",
      "source": [
        "print(matrice[0,0]) # accède à la valeur du premier pixel"
      ],
      "metadata": {
        "colab": {
          "base_uri": "https://localhost:8080/"
        },
        "id": "YMrzdVJSezMc",
        "outputId": "81d3eb37-090b-4c3f-9ea4-5216b074e248"
      },
      "execution_count": 19,
      "outputs": [
        {
          "output_type": "stream",
          "name": "stdout",
          "text": [
            "[125 137 226]\n"
          ]
        }
      ]
    },
    {
      "cell_type": "markdown",
      "source": [
        "En effet, l’image chargée par la fonction  imread  fait 512 lignes sur 512 colonnes, avec chaque pixel stocké sur 3 octets (car c’est une image couleur, en triplets RVB). Ensuite s’affiche la valeur du pixel de la ligne 0 colonne 0 qui est le triplet [125 137 226]."
      ],
      "metadata": {
        "id": "KOL36SXWfPMC"
      }
    },
    {
      "cell_type": "markdown",
      "source": [
        "OpenCV gère les valeurs des pixels non pas dans l’ordre RVB, mais à l’inverse dans l’ordre BVR, donc 226 est ici la composante de rouge du pixel de coordonnées (0,0)."
      ],
      "metadata": {
        "id": "T7IzH2HhfWnD"
      }
    },
    {
      "cell_type": "code",
      "source": [
        "matG =cv.cvtColor(matrice, cv2.COLOR_BGR2GRAY) # conversion des triplets BVR en gris "
      ],
      "metadata": {
        "id": "BIHebu4Lfdb2"
      },
      "execution_count": 21,
      "outputs": []
    },
    {
      "cell_type": "code",
      "source": [
        "print(matG.shape)\n",
        "print(matG[0,0])"
      ],
      "metadata": {
        "id": "uH4NxsH1gW0r",
        "outputId": "9fae5148-3ebf-4723-d2ec-7ba4b7784d4c",
        "colab": {
          "base_uri": "https://localhost:8080/"
        }
      },
      "execution_count": 22,
      "outputs": [
        {
          "output_type": "stream",
          "name": "stdout",
          "text": [
            "(512, 512)\n",
            "162\n"
          ]
        }
      ]
    },
    {
      "cell_type": "markdown",
      "source": [
        "Cette fois, il s’affiche :\n",
        "\n",
        "(512, 512)\n",
        "\n",
        "162\n",
        "\n",
        "La nouvelle matrice fait aussi 512 lignes par 512 colonnes, mais sur de simples octets. Et la couleur RVB du pixel a été convertie en 162, qui correspond à la luminance (cf. formule de la composante Y dans l’espace des couleurs YUV vu précédemment).\n",
        "\n",
        "Il existe un paramètre de la fonction  imread  qui permet de charger une image directement dans une matrice de niveaux de gris : la valeur 0 ajoutable en second paramètre équivalent à  cv.IMREAD_GRAYSCALE. Cependant cette fonction n’utilise pas exactement la même formule de conversion en luminance."
      ],
      "metadata": {
        "id": "AejXmMiSgkES"
      }
    },
    {
      "cell_type": "code",
      "source": [
        "matG=cv.imread(\"Lena.png\",0) # charge le fichier dans une matrice de pixel gris"
      ],
      "metadata": {
        "id": "79Dlb9H-glY4"
      },
      "execution_count": 23,
      "outputs": []
    }
  ],
  "metadata": {
    "colab": {
      "name": "Bienvenue dans Colaboratory",
      "toc_visible": true,
      "provenance": [],
      "include_colab_link": true
    },
    "kernelspec": {
      "display_name": "Python 3",
      "name": "python3"
    }
  },
  "nbformat": 4,
  "nbformat_minor": 0
}